{
  "nbformat": 4,
  "nbformat_minor": 0,
  "metadata": {
    "colab": {
      "name": "18M14291_report2.ipynb",
      "version": "0.3.2",
      "provenance": [],
      "collapsed_sections": []
    },
    "kernelspec": {
      "display_name": "Python 3",
      "language": "python",
      "name": "python3"
    },
    "accelerator": "GPU"
  },
  "cells": [
    {
      "metadata": {
        "id": "hHlW8xBulcH9",
        "colab_type": "text"
      },
      "cell_type": "markdown",
      "source": [
        "# Machine Learning: Intermediate report\n",
        "\n",
        "+ 佐田悠生 (18M14291)"
      ]
    },
    {
      "metadata": {
        "id": "RwOvN4JWlcH-",
        "colab_type": "text"
      },
      "cell_type": "markdown",
      "source": [
        "Prepare an environment for running Python codes on Jupyter notebook. The most easiest way is to use [Google Colaboratory](https://colab.research.google.com/).\n",
        "\n",
        "Write codes for the following three (and one optional) problems, and submit the notebook (`.ipynb`) as well as its HTML conversion (`.html`). *We do not accept a report in other formats (e.g., Word, PDF)*. Write a code at the specified cell in the notebook. One can add more cells if necessary.\n",
        "\n",
        "These are the links to the sample codes used in the lecture:\n",
        "\n",
        "+ [Binary classification](https://github.com/chokkan/deeplearningclass/blob/master/mlp_binary.ipynb)\n",
        "+ [MNIST](https://github.com/chokkan/deeplearningclass/blob/master/mnist.ipynb)"
      ]
    },
    {
      "metadata": {
        "id": "b_mds4OClcH_",
        "colab_type": "text"
      },
      "cell_type": "markdown",
      "source": [
        "## 1. Multi-class classification on MNIST\n",
        "\n",
        "Train a model on the training set of MNIST, and report the accuracy of the model on the test set. One can use the same code shown in the lecture. Write a code here and show the output."
      ]
    },
    {
      "metadata": {
        "id": "ZaVVsIqwtpPo",
        "colab_type": "code",
        "colab": {
          "base_uri": "https://localhost:8080/",
          "height": 289
        },
        "outputId": "e223e042-68fb-4e47-eef6-00c548a3c353"
      },
      "cell_type": "code",
      "source": [
        "!nvidia-smi #make sure you have gpu, you could have it in a runtime setting-menu"
      ],
      "execution_count": 1,
      "outputs": [
        {
          "output_type": "stream",
          "text": [
            "Tue Jul 17 14:29:08 2018       \r\n",
            "+-----------------------------------------------------------------------------+\r\n",
            "| NVIDIA-SMI 384.111                Driver Version: 384.111                   |\r\n",
            "|-------------------------------+----------------------+----------------------+\r\n",
            "| GPU  Name        Persistence-M| Bus-Id        Disp.A | Volatile Uncorr. ECC |\r\n",
            "| Fan  Temp  Perf  Pwr:Usage/Cap|         Memory-Usage | GPU-Util  Compute M. |\r\n",
            "|===============================+======================+======================|\r\n",
            "|   0  Tesla K80           Off  | 00000000:00:04.0 Off |                    0 |\r\n",
            "| N/A   39C    P0    71W / 149W |    156MiB / 11439MiB |      0%      Default |\r\n",
            "+-------------------------------+----------------------+----------------------+\r\n",
            "                                                                               \r\n",
            "+-----------------------------------------------------------------------------+\r\n",
            "| Processes:                                                       GPU Memory |\r\n",
            "|  GPU       PID   Type   Process name                             Usage      |\r\n",
            "|=============================================================================|\r\n",
            "+-----------------------------------------------------------------------------+\r\n"
          ],
          "name": "stdout"
        }
      ]
    },
    {
      "metadata": {
        "id": "SOA7bEJAlcIA",
        "colab_type": "code",
        "colab": {
          "base_uri": "https://localhost:8080/",
          "height": 272
        },
        "outputId": "489e0311-1a39-4d53-e8fd-5cb4c68213b9"
      },
      "cell_type": "code",
      "source": [
        "# prepair chainer\n",
        "\n",
        "!apt -y install libcusparse8.0 libnvrtc8.0 libnvtoolsext1\n",
        "!ln -snf /usr/lib/x86_64-linux-gnu/libnvrtc-builtins.so.8.0 /usr/lib/x86_64-linux-gnu/libnvrtc-builtins.so\n",
        "!pip install cupy-cuda80 chainer"
      ],
      "execution_count": 2,
      "outputs": [
        {
          "output_type": "stream",
          "text": [
            "Reading package lists... Done\n",
            "Building dependency tree       \n",
            "Reading state information... Done\n",
            "libcusparse8.0 is already the newest version (8.0.61-1).\n",
            "libnvrtc8.0 is already the newest version (8.0.61-1).\n",
            "libnvtoolsext1 is already the newest version (8.0.61-1).\n",
            "0 upgraded, 0 newly installed, 0 to remove and 7 not upgraded.\n",
            "Requirement already satisfied: cupy-cuda80 in /usr/local/lib/python3.6/dist-packages (4.2.0)\n",
            "Requirement already satisfied: chainer in /usr/local/lib/python3.6/dist-packages (4.2.0)\n",
            "Requirement already satisfied: numpy>=1.9.0 in /usr/local/lib/python3.6/dist-packages (from cupy-cuda80) (1.14.5)\n",
            "Requirement already satisfied: fastrlock>=0.3 in /usr/local/lib/python3.6/dist-packages (from cupy-cuda80) (0.3)\n",
            "Requirement already satisfied: six>=1.9.0 in /usr/local/lib/python3.6/dist-packages (from cupy-cuda80) (1.11.0)\n",
            "Requirement already satisfied: filelock in /usr/local/lib/python3.6/dist-packages (from chainer) (3.0.4)\n",
            "Requirement already satisfied: protobuf>=3.0.0 in /usr/local/lib/python3.6/dist-packages (from chainer) (3.6.0)\n",
            "Requirement already satisfied: setuptools in /usr/local/lib/python3.6/dist-packages (from protobuf>=3.0.0->chainer) (39.1.0)\n"
          ],
          "name": "stdout"
        }
      ]
    },
    {
      "metadata": {
        "id": "8MyADeShrwkc",
        "colab_type": "code",
        "colab": {}
      },
      "cell_type": "code",
      "source": [
        "from chainer.datasets import mnist\n",
        "from chainer import iterators\n",
        "import chainer\n",
        "import chainer.links as L\n",
        "import chainer.functions as F\n",
        "from chainer import optimizers\n",
        "from chainer import training\n",
        "from chainer.training import extensions"
      ],
      "execution_count": 0,
      "outputs": []
    },
    {
      "metadata": {
        "id": "AdS3ngkHlcID",
        "colab_type": "code",
        "colab": {
          "base_uri": "https://localhost:8080/",
          "height": 374
        },
        "outputId": "a322d90a-a711-4624-d6d6-0afbb83a454b"
      },
      "cell_type": "code",
      "source": [
        "train, test = mnist.get_mnist()\n",
        "\n",
        "batchsize = 128\n",
        "\n",
        "train_iter = iterators.SerialIterator(train, batchsize)\n",
        "test_iter = iterators.SerialIterator(test, batchsize, False, False)\n",
        "\n",
        "\n",
        "class MLP(chainer.Chain):\n",
        "\n",
        "    def __init__(self):\n",
        "        super(MLP, self).__init__()\n",
        "        with self.init_scope():\n",
        "            self.l1=L.Linear(None, 100)\n",
        "            self.l2=L.Linear(None, 100)\n",
        "            self.l3=L.Linear(None, 10)\n",
        "            self.bn1=L.BatchNormalization(100)\n",
        "            self.bn2=L.BatchNormalization(100)\n",
        "            self.bn3=L.BatchNormalization(10)\n",
        "\n",
        "    def __call__(self, x):\n",
        "        h1 = F.relu(self.bn1(self.l1(x)))\n",
        "        h2 = F.relu(self.bn2(self.l2(h1)))\n",
        "        return self.bn3(self.l3(h2))\n",
        "\n",
        "gpu_id = 0\n",
        "\n",
        "model = MLP()\n",
        "model = L.Classifier(model)\n",
        "\n",
        "if gpu_id >= 0:\n",
        "    model.to_gpu(gpu_id)\n",
        "    \n",
        "max_epoch = 20\n",
        "\n",
        "# optimizer\n",
        "optimizer = optimizers.SGD()\n",
        "optimizer.setup(model)\n",
        "\n",
        "# Updater\n",
        "updater = training.StandardUpdater(train_iter, optimizer, device=gpu_id)\n",
        "# Trainer\n",
        "trainer = training.Trainer(updater, (max_epoch, 'epoch'), out='mnist_result')\n",
        "\n",
        "trainer.extend(extensions.LogReport())\n",
        "trainer.extend(extensions.PrintReport(['epoch', 'main/loss', 'main/accuracy', 'validation/main/loss', 'validation/main/accuracy', 'elapsed_time']))\n",
        "trainer.extend(extensions.PlotReport(['main/loss', 'validation/main/loss'], x_key='epoch', file_name='loss.png'))\n",
        "trainer.extend(extensions.PlotReport(['main/accuracy', 'validation/main/accuracy'], x_key='epoch', file_name='accuracy.png'))\n",
        "#trainer.extend(extensions.snapshot(), trigger=(4, 'epoch'))\n",
        "trainer.extend(extensions.Evaluator(test_iter, model, device=gpu_id))\n",
        "trainer.extend(extensions.dump_graph('main/loss'))\n",
        "#trainer.extend(extensions.ProgressBar())\n",
        "trainer.run()"
      ],
      "execution_count": 4,
      "outputs": [
        {
          "output_type": "stream",
          "text": [
            "epoch       main/loss   main/accuracy  validation/main/loss  validation/main/accuracy  elapsed_time\n",
            "\u001b[J1           0.773273    0.835055       0.470153              0.918414                  5.79132       \n",
            "\u001b[J2           0.430793    0.920792       0.334916              0.93928                   11.0213       \n",
            "\u001b[J3           0.328759    0.936784       0.263646              0.947785                  16.1556       \n",
            "\u001b[J4           0.271639    0.944712       0.223071              0.952927                  21.2671       \n",
            "\u001b[J5           0.232627    0.952042       0.198635              0.956092                  26.4303       \n",
            "\u001b[J6           0.205525    0.956556       0.176007              0.962025                  31.6024       \n",
            "\u001b[J7           0.186348    0.961221       0.161429              0.963212                  36.7991       \n",
            "\u001b[J8           0.168055    0.963909       0.149813              0.965289                  41.9904       \n",
            "\u001b[J9           0.153887    0.967184       0.14039               0.967464                  47.1423       \n",
            "\u001b[J10          0.142397    0.96845        0.131983              0.968354                  52.392        \n",
            "\u001b[J11          0.132277    0.971049       0.126355              0.969739                  57.5646       \n",
            "\u001b[J12          0.122915    0.97294        0.122126              0.97053                   62.7535       \n",
            "\u001b[J13          0.116791    0.97488        0.115658              0.972409                  67.9188       \n",
            "\u001b[J14          0.109124    0.976862       0.111086              0.9732                    73.0972       \n",
            "\u001b[J15          0.104788    0.977129       0.107068              0.973794                  78.2264       \n",
            "\u001b[J16          0.0985302   0.978816       0.103786              0.974486                  83.3772       \n",
            "\u001b[J17          0.093119    0.980011       0.101622              0.974585                  88.578        \n",
            "\u001b[J18          0.0887611   0.981676       0.100234              0.973794                  93.8214       \n",
            "\u001b[J19          0.0830969   0.982792       0.0974713             0.97498                   98.9992       \n",
            "\u001b[J20          0.0802874   0.983457       0.0933969             0.976266                  104.182       \n"
          ],
          "name": "stdout"
        }
      ]
    },
    {
      "metadata": {
        "id": "lpJTMkOplcIC",
        "colab_type": "text"
      },
      "cell_type": "markdown",
      "source": [
        "## 2. Confusion matrix\n",
        "\n",
        "Show a confusion matrix of the predictions of the model on the test set. This is an example of a confusion matrix.\n",
        "\n",
        "![example](https://github.com/chokkan/deeplearningclass/blob/master/assignment/example-confusion-matrix.png?raw=1)\n",
        "\n",
        "Write a code here and show the confusion matrix."
      ]
    },
    {
      "metadata": {
        "id": "Bk80ci-3GoBP",
        "colab_type": "code",
        "colab": {}
      },
      "cell_type": "code",
      "source": [
        "import pandas as pd\n",
        "import seaborn as sn\n",
        "from sklearn.metrics import confusion_matrix\n",
        "import matplotlib.pyplot as plt\n",
        "\n",
        "# plot confution matrix from labels\n",
        "def print_cmx(y_true, y_pred):\n",
        "    labels = sorted(list(set(y_true)))\n",
        "    cmx_data = confusion_matrix(y_true, y_pred, labels=labels)\n",
        "    \n",
        "    df_cmx = pd.DataFrame(cmx_data, index=labels, columns=labels)\n",
        "\n",
        "    plt.figure(figsize = (10,7))\n",
        "    sn.heatmap(df_cmx, annot=True)\n",
        "    plt.show()"
      ],
      "execution_count": 0,
      "outputs": []
    },
    {
      "metadata": {
        "id": "t2ysT2MmrtcC",
        "colab_type": "code",
        "colab": {
          "base_uri": "https://localhost:8080/",
          "height": 428
        },
        "outputId": "a5a1df10-dee0-4294-df81-7fc9959973b9"
      },
      "cell_type": "code",
      "source": [
        "from chainer.dataset import concat_examples\n",
        "import numpy as np\n",
        "chainer.config.train = False\n",
        "\n",
        "# predict test data again\n",
        "# make sure you have a gpu and a trained model\n",
        "test_iter = iterators.SerialIterator(test, batchsize, False, False)\n",
        "\n",
        "pred_prob, gt_label = np.zeros((0,10)), []\n",
        "while True:\n",
        "    img, gt = concat_examples(test_iter.next(), device=gpu_id)\n",
        "    pred = model.predictor(img)\n",
        "    gt_label=np.append(gt_label, chainer.cuda.to_cpu(gt)).astype(np.int)\n",
        "    pred_prob=np.r_[pred_prob, chainer.cuda.to_cpu(pred.data)]\n",
        "    if test_iter.is_new_epoch: break\n",
        "      \n",
        "pred_label=np.argmax(pred_prob,axis=1)\n",
        "# plot\n",
        "print_cmx(gt_label, pred_label)\n"
      ],
      "execution_count": 6,
      "outputs": [
        {
          "output_type": "display_data",
          "data": {
            "image/png": "[encoded data removed]",
            "text/plain": [
              "<matplotlib.figure.Figure at 0x7fbc06049ef0>"
            ]
          },
          "metadata": {
            "tags": []
          }
        }
      ]
    },
    {
      "metadata": {
        "id": "2gdexj-LlcIF",
        "colab_type": "text"
      },
      "cell_type": "markdown",
      "source": [
        "## 3. Top-3 confusing examples\n",
        "\n",
        "Show the top three images where the model misrecognized their digits with strong confidences. More specifically, let $y_n$ and $\\hat{y}_n$ the true and predicted, respectively, digits of the image $x_n$. We want to find three images with high $P(\\hat{y}_n | x_n)$ when $y_n \\neq \\hat{y}_n$.\n",
        "\n",
        "Please show $y_n$, $P(y_n | x_n)$, $\\hat{y}_n$, and $P(\\hat{y}_n | x_n)$. This is an example of an output for an image (you need this kind of outputs for top-three images).\n",
        "\n",
        "![example](https://github.com/chokkan/deeplearningclass/blob/master/assignment/example-confusing-sample.png?raw=1)\n",
        "\n",
        "Write a code here and show the output."
      ]
    },
    {
      "metadata": {
        "id": "fXFU8exqlcIF",
        "colab_type": "code",
        "colab": {
          "base_uri": "https://localhost:8080/",
          "height": 232
        },
        "outputId": "344ddb1e-2975-4b4c-fe57-ea068dc8c45e"
      },
      "cell_type": "code",
      "source": [
        "top=3\n",
        "\n",
        "prob=np.max(F.softmax(pred_prob,axis=1).data,axis=1) #max predicted probability\n",
        "pos=(pred_label!=gt_label) # index posision of wrong label\n",
        "wrong=prob[pos] # probability of wrong label\n",
        "idx=np.argsort(wrong)[::-1] # sort index of wrong\n",
        "\n",
        "print(wrong[idx][:top])\n",
        "print('ground truth:',gt_label[pos][idx][:top])\n",
        "print('pred:',pred_label[pos][idx][:top])\n",
        "\n",
        "img,_=concat_examples(test)\n",
        "img=img[pos][idx][:top]\n",
        "\n",
        "for i in range(top):\n",
        "  plt.subplot(1,top,i+1)\n",
        "  plt.imshow(img[i].reshape(28,28))"
      ],
      "execution_count": 7,
      "outputs": [
        {
          "output_type": "stream",
          "text": [
            "[0.99880926 0.98956671 0.96939958]\n",
            "ground truth: [2 5 8]\n",
            "pred: [7 6 7]\n"
          ],
          "name": "stdout"
        },
        {
          "output_type": "display_data",
          "data": {
            "image/png": "[encoded data removed]",
            "text/plain": [
              "<matplotlib.figure.Figure at 0x7fbc05bc3588>"
            ]
          },
          "metadata": {
            "tags": []
          }
        }
      ]
    },
    {
      "metadata": {
        "id": "8kGDrgbblcII",
        "colab_type": "text"
      },
      "cell_type": "markdown",
      "source": [
        "## 4. Sample codes in other DL frameworks\n",
        "\n",
        "(Advanced; optional) Implement one or more sample code(s) with a different deep learning framework (e.g., Chainer, TensorFlow, DyNet) corresponding to the slides 60-66 in binary classification. *When subitting an answer to this problem, please agree that some of the submitted codes will be distributed on the Web site to improve this lecture.*"
      ]
    },
    {
      "metadata": {
        "id": "gzPFglpZnfsk",
        "colab_type": "text"
      },
      "cell_type": "markdown",
      "source": [
        "#Computing gradients with chainer"
      ]
    },
    {
      "metadata": {
        "id": "drJA_sunlcIJ",
        "colab_type": "code",
        "colab": {
          "base_uri": "https://localhost:8080/",
          "height": 51
        },
        "outputId": "ed37b46e-deb8-478a-deaf-34b140c47a2e"
      },
      "cell_type": "code",
      "source": [
        "import chainer\n",
        "#from chainer.cuda import cupy as xp\n",
        "import numpy as np\n",
        "from chainer import functions as F\n",
        "\n",
        "dtype=np.float32\n",
        "x=chainer.Variable(np.array([1,1,1], dtype=dtype))\n",
        "w=chainer.Variable(np.array([1.0, 1.0, -1.5], dtype=dtype))\n",
        "loss=-F.log(F.sigmoid(F.tensordot(x,w,1)))\n",
        "loss.grad=np.ones(loss.data.shape, dtype=dtype)\n",
        "loss.backward()\n",
        "\n",
        "print(loss.data)\n",
        "print(w.grad)"
      ],
      "execution_count": 8,
      "outputs": [
        {
          "output_type": "stream",
          "text": [
            "0.47407696\n",
            "[-0.37754062 -0.37754062 -0.37754062]\n"
          ],
          "name": "stdout"
        }
      ]
    },
    {
      "metadata": {
        "id": "W8RzJVcqni46",
        "colab_type": "text"
      },
      "cell_type": "markdown",
      "source": [
        "#Training SLP using SGD with chainer"
      ]
    },
    {
      "metadata": {
        "id": "_kd-G6aQoAIO",
        "colab_type": "code",
        "colab": {
          "base_uri": "https://localhost:8080/",
          "height": 136
        },
        "outputId": "1499a4dc-fec2-4d02-fabe-f370fd39bb16"
      },
      "cell_type": "code",
      "source": [
        "import chainer\n",
        "import numpy as np\n",
        "from chainer import functions as F\n",
        "\n",
        "dtype=np.float32\n",
        "\n",
        "# Training data for NAND.\n",
        "x = chainer.Variable(np.array([[0, 0, 1], [0, 1, 1], [1, 0, 1], [1, 1, 1]], dtype=dtype))\n",
        "y = chainer.Variable(np.array([[1], [1], [1], [0]], dtype=dtype))\n",
        "w =chainer.Variable(np.random.randn(3, 1).astype(dtype))\n",
        "\n",
        "eta = 0.5\n",
        "\n",
        "for t in range(100):\n",
        "    # y_pred = \\sigma(x \\cdot w)\n",
        "    y_pred = F.sigmoid(F.tensordot(x,w,1))\n",
        "    ll = y * y_pred + (1 - y) * (1 - y_pred)\n",
        "    loss = -F.sum(F.log(ll))      # The loss value.\n",
        "    #print(t, loss.item())\n",
        "    loss.backward()             # Compute the gradients of the loss.\n",
        "    \n",
        "    with chainer.configuration.using_config('enable_backprop', False):\n",
        "        w -= eta * w.grad       # Update weights using SGD.\n",
        "        w.cleargrad()          # Clear the gradients for the next iteration.\n",
        "\n",
        "print('w:',w.data)\n",
        "print('predict:',F.sigmoid(F.tensordot(x,w,1)).data)"
      ],
      "execution_count": 9,
      "outputs": [
        {
          "output_type": "stream",
          "text": [
            "w: [[-4.337484 ]\n",
            " [-4.3383975]\n",
            " [ 6.6975546]]\n",
            "predict: [[0.9987676 ]\n",
            " [0.91365933]\n",
            " [0.9137314 ]\n",
            " [0.1214973 ]]\n"
          ],
          "name": "stdout"
        }
      ]
    },
    {
      "metadata": {
        "id": "4MXoi3FKnl_B",
        "colab_type": "text"
      },
      "cell_type": "markdown",
      "source": [
        "#Training MLP using SGD with chainer"
      ]
    },
    {
      "metadata": {
        "id": "NleMyCRCzgan",
        "colab_type": "code",
        "colab": {
          "base_uri": "https://localhost:8080/",
          "height": 187
        },
        "outputId": "3a575925-e3da-44d6-8e8a-26ca8a949b3b"
      },
      "cell_type": "code",
      "source": [
        "import chainer\n",
        "import numpy as np\n",
        "from chainer import functions as F\n",
        "\n",
        "dtype=np.float32\n",
        "\n",
        "# Training data for XOR.\n",
        "x = chainer.Variable(np.array([[0, 0, 1], [0, 1, 1], [1, 0, 1], [1, 1, 1]], dtype=dtype))\n",
        "y = chainer.Variable(np.array([[0], [1], [1], [0]], dtype=dtype))\n",
        "w1 =chainer.Variable(np.random.randn(3, 2).astype(dtype))\n",
        "w2 =chainer.Variable(np.random.randn(2, 1).astype(dtype))\n",
        "b2 =chainer.Variable(np.random.randn(1).astype(dtype))\n",
        "\n",
        "eta = 0.5\n",
        "for t in range(1000):\n",
        "    # y_pred = \\sigma(w_2 \\cdot \\sigma(x \\cdot w_1) + b_2)\n",
        "    y_pred = F.sigmoid(F.bias(F.tensordot(F.sigmoid(F.tensordot(x,w1,1)),w2,1),b2))\n",
        "    ll = y * y_pred + (1 - y) * (1 - y_pred)\n",
        "    loss = -F.sum(F.log(ll)) \n",
        "    #print(t, loss.item())\n",
        "    loss.backward()\n",
        "    \n",
        "    with chainer.configuration.using_config('enable_backprop', False):\n",
        "        # Update weights using SGD.\n",
        "        w1 -= eta * w1.grad\n",
        "        w2 -= eta * w2.grad\n",
        "        b2 -= eta * b2.grad\n",
        "        \n",
        "        # Clear the gradients for the next iteration.\n",
        "        w1.cleargrad()\n",
        "        w2.cleargrad()\n",
        "        b2.cleargrad()\n",
        "\n",
        "print('w1',w1.data)\n",
        "print('w2',w2.data)\n",
        "print('b2',b2.data)\n",
        "print('pred',F.sigmoid(F.bias(F.tensordot(F.sigmoid(F.tensordot(x,w1,1)),w2,1),b2)).data)"
      ],
      "execution_count": 10,
      "outputs": [
        {
          "output_type": "stream",
          "text": [
            "w1 [[ 5.5076585 -6.811219 ]\n",
            " [ 5.5071445 -6.808606 ]\n",
            " [-8.528116   2.766697 ]]\n",
            "w2 [[-11.955854]\n",
            " [-11.855958]]\n",
            "b2 [5.8308444]\n",
            "pred [[0.00483903]\n",
            " [0.9937593 ]\n",
            " [0.9937609 ]\n",
            " [0.00544786]]\n"
          ],
          "name": "stdout"
        }
      ]
    },
    {
      "metadata": {
        "id": "jLLiqrYPnobW",
        "colab_type": "text"
      },
      "cell_type": "markdown",
      "source": [
        "#Training SLP with high-level NN chainer"
      ]
    },
    {
      "metadata": {
        "id": "48tekGSZN8k3",
        "colab_type": "code",
        "colab": {
          "base_uri": "https://localhost:8080/",
          "height": 85
        },
        "outputId": "f5b01d32-ff9b-4dae-db45-9531af32ca39"
      },
      "cell_type": "code",
      "source": [
        "import chainer\n",
        "import numpy as np\n",
        "from chainer import functions as F\n",
        "from chainer import links as L\n",
        "chainer.config.train = True\n",
        "\n",
        "dtype=np.float32\n",
        "\n",
        "# Training data for NAND.\n",
        "x = chainer.Variable(np.array([[0, 0], [0, 1], [1, 0], [1, 1]], dtype=dtype))\n",
        "y = chainer.Variable(np.array([[1], [1], [1], [0]], dtype=np.int32))\n",
        "\n",
        "# Define a neural network using high-level modules.\n",
        "model = chainer.Sequential(\n",
        "    L.Linear(2, 1, nobias=False),   # 2 dims (with bias) -> 1 dim\n",
        ")\n",
        "# Binary corss-entropy loss after sigmoid function.\n",
        "loss_fn=F.sigmoid_cross_entropy\n",
        "\n",
        "eta = 0.5\n",
        "for t in range(500):\n",
        "    y_pred = model(x)\n",
        "    loss = loss_fn(y_pred, y, normalize=False)\n",
        "    #print(t, loss.data)\n",
        "    \n",
        "    model.cleargrads()                   # Zero-clear the gradients.\n",
        "    loss.backward()                     # Compute the gradients.\n",
        "        \n",
        "    with chainer.configuration.using_config('enable_backprop', False):\n",
        "        for layer in model._layers:\n",
        "            layer.W -= eta * layer.W.grad   # Update the parameters using SGD.\n",
        "            layer.b -= eta * layer.b.grad   # Update the parameters using SGD.\n",
        "\n",
        "F.sigmoid(model(x))"
      ],
      "execution_count": 11,
      "outputs": [
        {
          "output_type": "execute_result",
          "data": {
            "text/plain": [
              "variable([[0.99923337],\n",
              "          [0.92522883],\n",
              "          [0.9252217 ],\n",
              "          [0.10511732]])"
            ]
          },
          "metadata": {
            "tags": []
          },
          "execution_count": 11
        }
      ]
    },
    {
      "metadata": {
        "id": "Jm-NItWEnqwc",
        "colab_type": "text"
      },
      "cell_type": "markdown",
      "source": [
        "#Training MLP with high-level NN chainer"
      ]
    },
    {
      "metadata": {
        "id": "gCNBMh3BiwII",
        "colab_type": "code",
        "colab": {
          "base_uri": "https://localhost:8080/",
          "height": 85
        },
        "outputId": "416baa3c-c436-4719-9874-c4c04ef3d046"
      },
      "cell_type": "code",
      "source": [
        "import chainer\n",
        "import numpy as np\n",
        "from chainer import functions as F\n",
        "from chainer import links as L\n",
        "chainer.config.train = True\n",
        "\n",
        "dtype=np.float32\n",
        "\n",
        "# Training data for XOR.\n",
        "x = chainer.Variable(np.array([[0, 0], [0, 1], [1, 0], [1, 1]], dtype=dtype))\n",
        "y = chainer.Variable(np.array([[0], [1], [1], [0]], dtype=np.int32))\n",
        "\n",
        "# Define a neural network using high-level modules.\n",
        "init=chainer.initializers.HeNormal()\n",
        "model = chainer.Sequential(\n",
        "    L.Linear(2, 2, nobias=False, initialW=init),\n",
        "    F.sigmoid,\n",
        "    L.Linear(2, 1, nobias=False, initialW=init),\n",
        ")\n",
        "# Binary corss-entropy loss after sigmoid function.\n",
        "loss_fn=F.sigmoid_cross_entropy\n",
        "\n",
        "eta = 0.5\n",
        "for t in range(1000):\n",
        "    y_pred = model(x)\n",
        "    loss = loss_fn(y_pred, y, normalize=False)\n",
        "    #print(t, loss.data)\n",
        "    \n",
        "    model.cleargrads()                   # Zero-clear the gradients.\n",
        "    loss.backward()                     # Compute the gradients.\n",
        "    \n",
        "    with chainer.configuration.using_config('enable_backprop', False):\n",
        "        for layer in model._layers:\n",
        "            try:\n",
        "                layer.W -= eta * layer.W.grad   # Update the parameters using SGD.\n",
        "                layer.b -= eta * layer.b.grad   # Update the parameters using SGD.\n",
        "            except:\n",
        "                pass\n",
        "                \n",
        "F.sigmoid(model(x))\n"
      ],
      "execution_count": 16,
      "outputs": [
        {
          "output_type": "execute_result",
          "data": {
            "text/plain": [
              "variable([[0.03585517],\n",
              "          [0.9508016 ],\n",
              "          [0.9693854 ],\n",
              "          [0.02983508]])"
            ]
          },
          "metadata": {
            "tags": []
          },
          "execution_count": 16
        }
      ]
    },
    {
      "metadata": {
        "id": "gFqzwGoWns2F",
        "colab_type": "text"
      },
      "cell_type": "markdown",
      "source": [
        "#SLP with high-level NN modules and optimizers"
      ]
    },
    {
      "metadata": {
        "id": "sOL-47iZkj5t",
        "colab_type": "code",
        "colab": {
          "base_uri": "https://localhost:8080/",
          "height": 85
        },
        "outputId": "00264a2a-aba0-44a9-f027-0fd7a76a6e51"
      },
      "cell_type": "code",
      "source": [
        "import chainer\n",
        "import numpy as np\n",
        "from chainer import functions as F\n",
        "from chainer import links as L\n",
        "chainer.config.train = True\n",
        "\n",
        "dtype=np.float32\n",
        "\n",
        "# Training data for NAND.\n",
        "x = chainer.Variable(np.array([[0, 0], [0, 1], [1, 0], [1, 1]], dtype=dtype))\n",
        "y = chainer.Variable(np.array([[1], [1], [1], [0]], dtype=np.int32))\n",
        "\n",
        "# Define a neural network using high-level modules.\n",
        "model = chainer.Sequential(\n",
        "    L.Linear(2, 1, nobias=False),   # 2 dims (with bias) -> 1 dim\n",
        ")\n",
        "\n",
        "# Binary corss-entropy loss after sigmoid function.\n",
        "loss_fn=F.sigmoid_cross_entropy\n",
        "\n",
        "eta = 0.5\n",
        "\n",
        "# Optimizer based on SGD (change \"SGD\" to \"Adam\" to use Adam)\n",
        "optimizer = chainer.optimizers.SGD(lr=0.5)\n",
        "optimizer.setup(model)\n",
        "\n",
        "for t in range(1000):\n",
        "    y_pred = model(x)\n",
        "    loss = loss_fn(y_pred, y, normalize=False)\n",
        "    #print(t, loss.data)\n",
        "    \n",
        "    model.zerograds()\n",
        "    loss.backward()                     # Compute the gradients.\n",
        "    optimizer.update()\n",
        "                \n",
        "F.sigmoid(model(x))\n"
      ],
      "execution_count": 13,
      "outputs": [
        {
          "output_type": "execute_result",
          "data": {
            "text/plain": [
              "variable([[0.99990284],\n",
              "          [0.9607514 ],\n",
              "          [0.9607508 ],\n",
              "          [0.05501705]])"
            ]
          },
          "metadata": {
            "tags": []
          },
          "execution_count": 13
        }
      ]
    },
    {
      "metadata": {
        "id": "XIG0DYIKnvAx",
        "colab_type": "text"
      },
      "cell_type": "markdown",
      "source": [
        "#MLP with high-level NN modules and optimizers"
      ]
    },
    {
      "metadata": {
        "id": "oXjhpUvwkrSl",
        "colab_type": "code",
        "colab": {
          "base_uri": "https://localhost:8080/",
          "height": 85
        },
        "outputId": "c01acd79-cc56-4e66-e68c-571d7f0312bf"
      },
      "cell_type": "code",
      "source": [
        "import chainer\n",
        "import numpy as np\n",
        "from chainer import functions as F\n",
        "from chainer import links as L\n",
        "chainer.config.train = True\n",
        "\n",
        "dtype=np.float32\n",
        "\n",
        "# Training data for XOR.\n",
        "x = chainer.Variable(np.array([[0, 0], [0, 1], [1, 0], [1, 1]], dtype=dtype))\n",
        "y = chainer.Variable(np.array([[0], [1], [1], [0]], dtype=np.int32))\n",
        "\n",
        "# Define a neural network using high-level modules.\n",
        "model = chainer.Sequential(\n",
        "    L.Linear(2, 2, nobias=False),\n",
        "    F.sigmoid,\n",
        "    L.Linear(2, 1, nobias=False),\n",
        ")\n",
        "\n",
        "# Binary corss-entropy loss after sigmoid function.\n",
        "loss_fn=F.sigmoid_cross_entropy\n",
        "\n",
        "\n",
        "# Optimizer based on SGD (change \"SGD\" to \"Adam\" to use Adam)\n",
        "optimizer = chainer.optimizers.SGD(lr=0.5)\n",
        "optimizer.setup(model)\n",
        "\n",
        "for t in range(1000):\n",
        "    y_pred = model(x)\n",
        "    loss = loss_fn(y_pred, y, normalize=False)\n",
        "    #print(t, loss.data)\n",
        "    \n",
        "    model.zerograds()\n",
        "    loss.backward()                     # Compute the gradients.\n",
        "    optimizer.update()\n",
        "                \n",
        "F.sigmoid(model(x))\n"
      ],
      "execution_count": 62,
      "outputs": [
        {
          "output_type": "execute_result",
          "data": {
            "text/plain": [
              "variable([[0.05223453],\n",
              "          [0.938006  ],\n",
              "          [0.9492377 ],\n",
              "          [0.04352644]])"
            ]
          },
          "metadata": {
            "tags": []
          },
          "execution_count": 62
        }
      ]
    }
  ]
}